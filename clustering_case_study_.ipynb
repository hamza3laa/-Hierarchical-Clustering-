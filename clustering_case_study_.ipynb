{
  "nbformat": 4,
  "nbformat_minor": 0,
  "metadata": {
    "colab": {
      "name": "clustering case study .ipynb",
      "provenance": [],
      "collapsed_sections": [],
      "authorship_tag": "ABX9TyNp+1tf9qqY8CyUYA0ssBkZ",
      "include_colab_link": true
    },
    "kernelspec": {
      "name": "python3",
      "display_name": "Python 3"
    },
    "language_info": {
      "name": "python"
    }
  },
  "cells": [
    {
      "cell_type": "markdown",
      "metadata": {
        "id": "view-in-github",
        "colab_type": "text"
      },
      "source": [
        "<a href=\"https://colab.research.google.com/github/hamza3laa/-Hierarchical-Clustering-/blob/main/clustering_case_study_.ipynb\" target=\"_parent\"><img src=\"https://colab.research.google.com/assets/colab-badge.svg\" alt=\"Open In Colab\"/></a>"
      ]
    },
    {
      "cell_type": "code",
      "metadata": {
        "id": "5HYI6i1uCiAA"
      },
      "source": [
        "import pandas as pd\n",
        "import numpy as np\n",
        "import matplotlib.pyplot as plt\n",
        "import seaborn as sns\n",
        "%matplotlib inline\n",
        "sns.set()\n",
        "import scipy.cluster.hierarchy as sch"
      ],
      "execution_count": 86,
      "outputs": []
    },
    {
      "cell_type": "code",
      "metadata": {
        "colab": {
          "base_uri": "https://localhost:8080/"
        },
        "id": "GtXFnmLr6bGY",
        "outputId": "3737a48e-5780-46bb-bab8-55e0993bd863"
      },
      "source": [
        "from google.colab import drive\n",
        "drive.mount('/content/drive')"
      ],
      "execution_count": 87,
      "outputs": [
        {
          "output_type": "stream",
          "name": "stdout",
          "text": [
            "Drive already mounted at /content/drive; to attempt to forcibly remount, call drive.mount(\"/content/drive\", force_remount=True).\n"
          ]
        }
      ]
    },
    {
      "cell_type": "code",
      "metadata": {
        "id": "zUjW_pKL8pUQ"
      },
      "source": [
        "url = '/content/drive/MyDrive/Machine learning/Mostfa othman course/Clustering materials /mall-customers.csv'\n",
        "df = pd.read_csv(url , sep = ',')"
      ],
      "execution_count": 88,
      "outputs": []
    },
    {
      "cell_type": "code",
      "metadata": {
        "colab": {
          "base_uri": "https://localhost:8080/",
          "height": 204
        },
        "id": "kj1k1GPwhuac",
        "outputId": "19d91250-8924-4559-e89f-96ecb65bed21"
      },
      "source": [
        "df.head()"
      ],
      "execution_count": 89,
      "outputs": [
        {
          "output_type": "execute_result",
          "data": {
            "text/html": [
              "<div>\n",
              "<style scoped>\n",
              "    .dataframe tbody tr th:only-of-type {\n",
              "        vertical-align: middle;\n",
              "    }\n",
              "\n",
              "    .dataframe tbody tr th {\n",
              "        vertical-align: top;\n",
              "    }\n",
              "\n",
              "    .dataframe thead th {\n",
              "        text-align: right;\n",
              "    }\n",
              "</style>\n",
              "<table border=\"1\" class=\"dataframe\">\n",
              "  <thead>\n",
              "    <tr style=\"text-align: right;\">\n",
              "      <th></th>\n",
              "      <th>CustomerID</th>\n",
              "      <th>Genre</th>\n",
              "      <th>Age</th>\n",
              "      <th>Annual Income (k$)</th>\n",
              "      <th>Spending Score (1-100)</th>\n",
              "    </tr>\n",
              "  </thead>\n",
              "  <tbody>\n",
              "    <tr>\n",
              "      <th>0</th>\n",
              "      <td>1</td>\n",
              "      <td>Male</td>\n",
              "      <td>19</td>\n",
              "      <td>15</td>\n",
              "      <td>39</td>\n",
              "    </tr>\n",
              "    <tr>\n",
              "      <th>1</th>\n",
              "      <td>2</td>\n",
              "      <td>Male</td>\n",
              "      <td>21</td>\n",
              "      <td>15</td>\n",
              "      <td>81</td>\n",
              "    </tr>\n",
              "    <tr>\n",
              "      <th>2</th>\n",
              "      <td>3</td>\n",
              "      <td>Female</td>\n",
              "      <td>20</td>\n",
              "      <td>16</td>\n",
              "      <td>6</td>\n",
              "    </tr>\n",
              "    <tr>\n",
              "      <th>3</th>\n",
              "      <td>4</td>\n",
              "      <td>Female</td>\n",
              "      <td>23</td>\n",
              "      <td>16</td>\n",
              "      <td>77</td>\n",
              "    </tr>\n",
              "    <tr>\n",
              "      <th>4</th>\n",
              "      <td>5</td>\n",
              "      <td>Female</td>\n",
              "      <td>31</td>\n",
              "      <td>17</td>\n",
              "      <td>40</td>\n",
              "    </tr>\n",
              "  </tbody>\n",
              "</table>\n",
              "</div>"
            ],
            "text/plain": [
              "   CustomerID   Genre  Age  Annual Income (k$)  Spending Score (1-100)\n",
              "0           1    Male   19                  15                      39\n",
              "1           2    Male   21                  15                      81\n",
              "2           3  Female   20                  16                       6\n",
              "3           4  Female   23                  16                      77\n",
              "4           5  Female   31                  17                      40"
            ]
          },
          "metadata": {},
          "execution_count": 89
        }
      ]
    },
    {
      "cell_type": "code",
      "metadata": {
        "colab": {
          "base_uri": "https://localhost:8080/"
        },
        "id": "PkpD6A-rL3-Y",
        "outputId": "388283bf-fc33-4d5f-bf00-e3e27247016f"
      },
      "source": [
        "df.info()"
      ],
      "execution_count": 90,
      "outputs": [
        {
          "output_type": "stream",
          "name": "stdout",
          "text": [
            "<class 'pandas.core.frame.DataFrame'>\n",
            "RangeIndex: 200 entries, 0 to 199\n",
            "Data columns (total 5 columns):\n",
            " #   Column                  Non-Null Count  Dtype \n",
            "---  ------                  --------------  ----- \n",
            " 0   CustomerID              200 non-null    int64 \n",
            " 1   Genre                   200 non-null    object\n",
            " 2   Age                     200 non-null    int64 \n",
            " 3   Annual Income (k$)      200 non-null    int64 \n",
            " 4   Spending Score (1-100)  200 non-null    int64 \n",
            "dtypes: int64(4), object(1)\n",
            "memory usage: 7.9+ KB\n"
          ]
        }
      ]
    },
    {
      "cell_type": "code",
      "metadata": {
        "colab": {
          "base_uri": "https://localhost:8080/",
          "height": 268
        },
        "id": "gWWXaOE_L4Af",
        "outputId": "13bcc40f-5938-474d-bf72-d2388edb8360"
      },
      "source": [
        "plt.scatter(df['Annual Income (k$)'] , df['Spending Score (1-100)']);"
      ],
      "execution_count": 91,
      "outputs": [
        {
          "output_type": "display_data",
          "data": {
            "image/png": "[encoded data removed]",
            "text/plain": [
              "<Figure size 432x288 with 1 Axes>"
            ]
          },
          "metadata": {}
        }
      ]
    },
    {
      "cell_type": "markdown",
      "metadata": {
        "id": "fD6IC41WfQOX"
      },
      "source": [
        "# **1- KMeans**"
      ]
    },
    {
      "cell_type": "code",
      "metadata": {
        "id": "IXvNDw1qMYhu"
      },
      "source": [
        "from sklearn.cluster import KMeans\n",
        "wss=[]\n",
        "for i in range(1,11):\n",
        "  model = KMeans(n_clusters=i ,random_state=42)\n",
        "  predections = model.fit_predict(df[['Age','Annual Income (k$)',\t'Spending Score (1-100)']])\n",
        "  wss.append(model.inertia_)\n"
      ],
      "execution_count": 92,
      "outputs": []
    },
    {
      "cell_type": "code",
      "metadata": {
        "colab": {
          "base_uri": "https://localhost:8080/"
        },
        "id": "lZuqpO_fQ_bI",
        "outputId": "e1214cc7-04cf-4a14-db85-38a1d40879c0"
      },
      "source": [
        "model.cluster_centers_"
      ],
      "execution_count": 93,
      "outputs": [
        {
          "output_type": "execute_result",
          "data": {
            "text/plain": [
              "array([[ 41.        , 109.7       ,  22.        ],\n",
              "       [ 25.52173913,  26.30434783,  78.56521739],\n",
              "       [ 32.78571429,  78.03571429,  81.89285714],\n",
              "       [ 36.30769231,  31.69230769,  36.46153846],\n",
              "       [ 32.45454545, 108.18181818,  82.72727273],\n",
              "       [ 24.07142857,  58.07142857,  49.71428571],\n",
              "       [ 46.16      ,  61.32      ,  46.36      ],\n",
              "       [ 61.44444444,  51.18518519,  50.44444444],\n",
              "       [ 41.        ,  80.18181818,  12.68181818],\n",
              "       [ 49.        ,  24.46153846,  11.07692308]])"
            ]
          },
          "metadata": {},
          "execution_count": 93
        }
      ]
    },
    {
      "cell_type": "code",
      "metadata": {
        "colab": {
          "base_uri": "https://localhost:8080/"
        },
        "id": "kGxb7ux2SSsh",
        "outputId": "3430e93f-c612-4001-e035-c43192825ad9"
      },
      "source": [
        "wss"
      ],
      "execution_count": 94,
      "outputs": [
        {
          "output_type": "execute_result",
          "data": {
            "text/plain": [
              "[308812.78,\n",
              " 212840.16982097185,\n",
              " 143342.751571706,\n",
              " 104366.15145556198,\n",
              " 75350.77917248776,\n",
              " 58300.44332159069,\n",
              " 51084.50595493436,\n",
              " 44307.87341670445,\n",
              " 40573.697664978696,\n",
              " 37085.62797727232]"
            ]
          },
          "metadata": {},
          "execution_count": 94
        }
      ]
    },
    {
      "cell_type": "code",
      "metadata": {
        "colab": {
          "base_uri": "https://localhost:8080/",
          "height": 268
        },
        "id": "Dk4ON-SRO9Pf",
        "outputId": "e404a772-a19b-4b32-a09a-b3f52c700b38"
      },
      "source": [
        "plt.plot( range(1,11) , wss ,'bx-');"
      ],
      "execution_count": 95,
      "outputs": [
        {
          "output_type": "display_data",
          "data": {
            "image/png": "[encoded data removed]",
            "text/plain": [
              "<Figure size 432x288 with 1 Axes>"
            ]
          },
          "metadata": {}
        }
      ]
    },
    {
      "cell_type": "markdown",
      "metadata": {
        "id": "pFUKSFY-UzQl"
      },
      "source": [
        "# still can not detrmine number of clusters as 5 & 6 clusters are pretty close"
      ]
    },
    {
      "cell_type": "markdown",
      "metadata": {
        "id": "MygqWaWxXRO4"
      },
      "source": [
        "Finding the Optimal Number of Clusters using silhouette coefficient"
      ]
    },
    {
      "cell_type": "code",
      "metadata": {
        "id": "b6eH1TukWlXE"
      },
      "source": [
        "X=df[['Annual Income (k$)','Spending Score (1-100)']].values\n"
      ],
      "execution_count": 96,
      "outputs": []
    },
    {
      "cell_type": "code",
      "metadata": {
        "id": "yxC8g1UXL4EY"
      },
      "source": [
        "from sklearn.metrics import silhouette_score\n",
        "silhouette_avg = []\n",
        "for i in range(2,11):\n",
        "  model = KMeans(n_clusters=i ,random_state=42)\n",
        "  model.fit(X)\n",
        "  silhouette_avg.append(silhouette_score(X, model.labels_))\n",
        "  \n"
      ],
      "execution_count": 97,
      "outputs": []
    },
    {
      "cell_type": "code",
      "metadata": {
        "colab": {
          "base_uri": "https://localhost:8080/"
        },
        "id": "ZWLIk4aMbqDd",
        "outputId": "d919b4ac-cd68-4b4a-a8dd-d7dece40d424"
      },
      "source": [
        "\n",
        "silhouette_avg"
      ],
      "execution_count": 98,
      "outputs": [
        {
          "output_type": "execute_result",
          "data": {
            "text/plain": [
              "[0.2968969162503008,\n",
              " 0.46761358158775435,\n",
              " 0.4931963109249047,\n",
              " 0.553931997444648,\n",
              " 0.5379675585622219,\n",
              " 0.5288104473798049,\n",
              " 0.45924987052000815,\n",
              " 0.4565077334305076,\n",
              " 0.45056557470336733]"
            ]
          },
          "metadata": {},
          "execution_count": 98
        }
      ]
    },
    {
      "cell_type": "code",
      "metadata": {
        "colab": {
          "base_uri": "https://localhost:8080/",
          "height": 301
        },
        "id": "rlz-x-UiYDVN",
        "outputId": "b18c2868-0137-4bec-88a4-eda775667301"
      },
      "source": [
        "plt.plot(range(2,11),silhouette_avg ,'bx-')\n",
        "plt.xlabel('‘Values of K’')\n",
        "plt.ylabel('‘Silhouette score’') \n",
        "plt.title('‘Silhouette analysis For Optimal k’')\n",
        "plt.show()"
      ],
      "execution_count": 99,
      "outputs": [
        {
          "output_type": "display_data",
          "data": {
            "image/png": "[encoded data removed]",
            "text/plain": [
              "<Figure size 432x288 with 1 Axes>"
            ]
          },
          "metadata": {}
        }
      ]
    },
    {
      "cell_type": "markdown",
      "metadata": {
        "id": "_saOP8kiefVP"
      },
      "source": [
        "## Now we can assure the optimum number of clusters is 5"
      ]
    },
    {
      "cell_type": "markdown",
      "metadata": {
        "id": "DwlJWcqce4g1"
      },
      "source": [
        "## Let's run the model with 5 clusters "
      ]
    },
    {
      "cell_type": "code",
      "metadata": {
        "id": "LcouQaMeOFTw",
        "colab": {
          "base_uri": "https://localhost:8080/"
        },
        "outputId": "6e1c0870-0f7c-4602-a3e4-cc694d6724c4"
      },
      "source": [
        "from sklearn.cluster import KMeans\n",
        "model= KMeans(n_clusters=5)\n",
        "predections=model.fit_predict(df[[ 'Annual Income (k$)',\t'Spending Score (1-100)']])\n",
        "model.cluster_centers_"
      ],
      "execution_count": 100,
      "outputs": [
        {
          "output_type": "execute_result",
          "data": {
            "text/plain": [
              "array([[86.53846154, 82.12820513],\n",
              "       [26.30434783, 20.91304348],\n",
              "       [55.2962963 , 49.51851852],\n",
              "       [88.2       , 17.11428571],\n",
              "       [25.72727273, 79.36363636]])"
            ]
          },
          "metadata": {},
          "execution_count": 100
        }
      ]
    },
    {
      "cell_type": "code",
      "metadata": {
        "colab": {
          "base_uri": "https://localhost:8080/",
          "height": 268
        },
        "id": "yyfwgVWTMYkK",
        "outputId": "60934854-0021-44f3-f4e2-0346a983ae00"
      },
      "source": [
        "plt.scatter(df['Annual Income (k$)'] , df['Spending Score (1-100)'] ,c=model.labels_ );\n",
        "plt.scatter(model.cluster_centers_[: ,0], model.cluster_centers_[: ,-1] , c='b' , s=200);"
      ],
      "execution_count": 101,
      "outputs": [
        {
          "output_type": "display_data",
          "data": {
            "image/png": "[encoded data removed]",
            "text/plain": [
              "<Figure size 432x288 with 1 Axes>"
            ]
          },
          "metadata": {}
        }
      ]
    },
    {
      "cell_type": "code",
      "metadata": {
        "colab": {
          "base_uri": "https://localhost:8080/",
          "height": 204
        },
        "id": "uzoBFEq0YJus",
        "outputId": "381c9413-c50e-419b-853c-998b1d5e1e78"
      },
      "source": [
        "y_clustred = model.labels_\n",
        "df['KMClusters']= y_clustred\n",
        "df.head()"
      ],
      "execution_count": 102,
      "outputs": [
        {
          "output_type": "execute_result",
          "data": {
            "text/html": [
              "<div>\n",
              "<style scoped>\n",
              "    .dataframe tbody tr th:only-of-type {\n",
              "        vertical-align: middle;\n",
              "    }\n",
              "\n",
              "    .dataframe tbody tr th {\n",
              "        vertical-align: top;\n",
              "    }\n",
              "\n",
              "    .dataframe thead th {\n",
              "        text-align: right;\n",
              "    }\n",
              "</style>\n",
              "<table border=\"1\" class=\"dataframe\">\n",
              "  <thead>\n",
              "    <tr style=\"text-align: right;\">\n",
              "      <th></th>\n",
              "      <th>CustomerID</th>\n",
              "      <th>Genre</th>\n",
              "      <th>Age</th>\n",
              "      <th>Annual Income (k$)</th>\n",
              "      <th>Spending Score (1-100)</th>\n",
              "      <th>KMClusters</th>\n",
              "    </tr>\n",
              "  </thead>\n",
              "  <tbody>\n",
              "    <tr>\n",
              "      <th>0</th>\n",
              "      <td>1</td>\n",
              "      <td>Male</td>\n",
              "      <td>19</td>\n",
              "      <td>15</td>\n",
              "      <td>39</td>\n",
              "      <td>1</td>\n",
              "    </tr>\n",
              "    <tr>\n",
              "      <th>1</th>\n",
              "      <td>2</td>\n",
              "      <td>Male</td>\n",
              "      <td>21</td>\n",
              "      <td>15</td>\n",
              "      <td>81</td>\n",
              "      <td>4</td>\n",
              "    </tr>\n",
              "    <tr>\n",
              "      <th>2</th>\n",
              "      <td>3</td>\n",
              "      <td>Female</td>\n",
              "      <td>20</td>\n",
              "      <td>16</td>\n",
              "      <td>6</td>\n",
              "      <td>1</td>\n",
              "    </tr>\n",
              "    <tr>\n",
              "      <th>3</th>\n",
              "      <td>4</td>\n",
              "      <td>Female</td>\n",
              "      <td>23</td>\n",
              "      <td>16</td>\n",
              "      <td>77</td>\n",
              "      <td>4</td>\n",
              "    </tr>\n",
              "    <tr>\n",
              "      <th>4</th>\n",
              "      <td>5</td>\n",
              "      <td>Female</td>\n",
              "      <td>31</td>\n",
              "      <td>17</td>\n",
              "      <td>40</td>\n",
              "      <td>1</td>\n",
              "    </tr>\n",
              "  </tbody>\n",
              "</table>\n",
              "</div>"
            ],
            "text/plain": [
              "   CustomerID   Genre  ...  Spending Score (1-100)  KMClusters\n",
              "0           1    Male  ...                      39           1\n",
              "1           2    Male  ...                      81           4\n",
              "2           3  Female  ...                       6           1\n",
              "3           4  Female  ...                      77           4\n",
              "4           5  Female  ...                      40           1\n",
              "\n",
              "[5 rows x 6 columns]"
            ]
          },
          "metadata": {},
          "execution_count": 102
        }
      ]
    },
    {
      "cell_type": "markdown",
      "metadata": {
        "id": "0OU-SBqufeAR"
      },
      "source": [
        "# **Hierarchical Clustering**"
      ]
    },
    {
      "cell_type": "code",
      "metadata": {
        "colab": {
          "base_uri": "https://localhost:8080/",
          "height": 286
        },
        "id": "4vwTMvSYsji1",
        "outputId": "d89bd01b-2df3-4ea7-d5c1-c5ff85df1762"
      },
      "source": [
        "plt.scatter(df.iloc[: , 3] , df.iloc[: ,4] , s = 80)\n"
      ],
      "execution_count": 103,
      "outputs": [
        {
          "output_type": "execute_result",
          "data": {
            "text/plain": [
              "<matplotlib.collections.PathCollection at 0x7f71ac74e9d0>"
            ]
          },
          "metadata": {},
          "execution_count": 103
        },
        {
          "output_type": "display_data",
          "data": {
            "image/png": "[encoded data removed]",
            "text/plain": [
              "<Figure size 432x288 with 1 Axes>"
            ]
          },
          "metadata": {}
        }
      ]
    },
    {
      "cell_type": "code",
      "metadata": {
        "id": "rFUVl1Wkl9mo"
      },
      "source": [
        "X = df.iloc[:, [3,4]].values\n"
      ],
      "execution_count": 104,
      "outputs": []
    },
    {
      "cell_type": "code",
      "metadata": {
        "id": "XdbkvTrIfdYF"
      },
      "source": [
        "import scipy.cluster.hierarchy as sch\n",
        "\n",
        "plt.figure(figsize=(15,10))\n",
        "dendrogram = sch.dendrogram(sch.linkage(X , method  = \"ward\"))\n",
        "plt.title('Dendrogram')\n",
        "plt.xlabel('Customers')\n",
        "plt.ylabel('Euclidean distances')\n",
        "plt.show()"
      ],
      "execution_count": 105,
      "outputs": []
    },
    {
      "cell_type": "markdown",
      "metadata": {
        "id": "yobq1l3CnU2B"
      },
      "source": [
        "Customers are represented on the x-axis, and the Euclidean distance between clusters is represented on the y-axis. How do we figure out the best number of clusters based on this diagram? We want to find the longest vertical distance we can without crossing any horizontal lines, which is the red-framed line in the diagram above. Let’s count the lines on the diagram and figure out how many clusters are best. For this dataset, the cluster number will be 5."
      ]
    },
    {
      "cell_type": "code",
      "metadata": {
        "colab": {
          "base_uri": "https://localhost:8080/"
        },
        "id": "s0zY2agAfdad",
        "outputId": "1167d8eb-1ff8-4885-9352-61191990c724"
      },
      "source": [
        "#Fitting hierarchical clustering to the Mall_Customes dataset \n",
        "from sklearn.cluster import AgglomerativeClustering \n",
        "hc = AgglomerativeClustering(n_clusters = 5, affinity = 'euclidean', linkage ='ward')\n",
        "hc.fit_predict(X)\n"
      ],
      "execution_count": 106,
      "outputs": [
        {
          "output_type": "execute_result",
          "data": {
            "text/plain": [
              "array([4, 3, 4, 3, 4, 3, 4, 3, 4, 3, 4, 3, 4, 3, 4, 3, 4, 3, 4, 3, 4, 3,\n",
              "       4, 3, 4, 3, 4, 3, 4, 3, 4, 3, 4, 3, 4, 3, 4, 3, 4, 3, 4, 3, 4, 1,\n",
              "       4, 1, 1, 1, 1, 1, 1, 1, 1, 1, 1, 1, 1, 1, 1, 1, 1, 1, 1, 1, 1, 1,\n",
              "       1, 1, 1, 1, 1, 1, 1, 1, 1, 1, 1, 1, 1, 1, 1, 1, 1, 1, 1, 1, 1, 1,\n",
              "       1, 1, 1, 1, 1, 1, 1, 1, 1, 1, 1, 1, 1, 1, 1, 1, 1, 1, 1, 1, 1, 1,\n",
              "       1, 1, 1, 1, 1, 1, 1, 1, 1, 1, 1, 1, 1, 2, 1, 2, 1, 2, 0, 2, 0, 2,\n",
              "       1, 2, 0, 2, 0, 2, 0, 2, 0, 2, 1, 2, 0, 2, 1, 2, 0, 2, 0, 2, 0, 2,\n",
              "       0, 2, 0, 2, 0, 2, 1, 2, 0, 2, 0, 2, 0, 2, 0, 2, 0, 2, 0, 2, 0, 2,\n",
              "       0, 2, 0, 2, 0, 2, 0, 2, 0, 2, 0, 2, 0, 2, 0, 2, 0, 2, 0, 2, 0, 2,\n",
              "       0, 2])"
            ]
          },
          "metadata": {},
          "execution_count": 106
        }
      ]
    },
    {
      "cell_type": "code",
      "metadata": {
        "colab": {
          "base_uri": "https://localhost:8080/"
        },
        "id": "As6kLZ0gCoXE",
        "outputId": "3dec4b33-2a03-4d3a-cab8-fa8a38c6a37e"
      },
      "source": [
        "hc.labels_"
      ],
      "execution_count": 107,
      "outputs": [
        {
          "output_type": "execute_result",
          "data": {
            "text/plain": [
              "array([4, 3, 4, 3, 4, 3, 4, 3, 4, 3, 4, 3, 4, 3, 4, 3, 4, 3, 4, 3, 4, 3,\n",
              "       4, 3, 4, 3, 4, 3, 4, 3, 4, 3, 4, 3, 4, 3, 4, 3, 4, 3, 4, 3, 4, 1,\n",
              "       4, 1, 1, 1, 1, 1, 1, 1, 1, 1, 1, 1, 1, 1, 1, 1, 1, 1, 1, 1, 1, 1,\n",
              "       1, 1, 1, 1, 1, 1, 1, 1, 1, 1, 1, 1, 1, 1, 1, 1, 1, 1, 1, 1, 1, 1,\n",
              "       1, 1, 1, 1, 1, 1, 1, 1, 1, 1, 1, 1, 1, 1, 1, 1, 1, 1, 1, 1, 1, 1,\n",
              "       1, 1, 1, 1, 1, 1, 1, 1, 1, 1, 1, 1, 1, 2, 1, 2, 1, 2, 0, 2, 0, 2,\n",
              "       1, 2, 0, 2, 0, 2, 0, 2, 0, 2, 1, 2, 0, 2, 1, 2, 0, 2, 0, 2, 0, 2,\n",
              "       0, 2, 0, 2, 0, 2, 1, 2, 0, 2, 0, 2, 0, 2, 0, 2, 0, 2, 0, 2, 0, 2,\n",
              "       0, 2, 0, 2, 0, 2, 0, 2, 0, 2, 0, 2, 0, 2, 0, 2, 0, 2, 0, 2, 0, 2,\n",
              "       0, 2])"
            ]
          },
          "metadata": {},
          "execution_count": 107
        }
      ]
    },
    {
      "cell_type": "code",
      "metadata": {
        "colab": {
          "base_uri": "https://localhost:8080/",
          "height": 268
        },
        "id": "u9dndNhDtj3V",
        "outputId": "f75419ce-43fe-4f6b-b1a3-c4a6e38e91c2"
      },
      "source": [
        "plt.scatter(X[: , 0] , X[: ,1 ])\n",
        "for i in hc.labels_:\n",
        "  plt.scatter(X[hc.labels_ == i , 0],X[hc.labels_==i ,1] ,s=70 ,label=i)\n",
        "\n"
      ],
      "execution_count": 108,
      "outputs": [
        {
          "output_type": "display_data",
          "data": {
            "image/png": "[encoded data removed]",
            "text/plain": [
              "<Figure size 432x288 with 1 Axes>"
            ]
          },
          "metadata": {}
        }
      ]
    },
    {
      "cell_type": "code",
      "metadata": {
        "colab": {
          "base_uri": "https://localhost:8080/",
          "height": 204
        },
        "id": "5NzLI0VQIbSH",
        "outputId": "c6aa48ba-abac-4f04-f7a5-146c35050b5e"
      },
      "source": [
        "df['HiercClustrs'] = hc.labels_\n",
        "df.head()"
      ],
      "execution_count": 109,
      "outputs": [
        {
          "output_type": "execute_result",
          "data": {
            "text/html": [
              "<div>\n",
              "<style scoped>\n",
              "    .dataframe tbody tr th:only-of-type {\n",
              "        vertical-align: middle;\n",
              "    }\n",
              "\n",
              "    .dataframe tbody tr th {\n",
              "        vertical-align: top;\n",
              "    }\n",
              "\n",
              "    .dataframe thead th {\n",
              "        text-align: right;\n",
              "    }\n",
              "</style>\n",
              "<table border=\"1\" class=\"dataframe\">\n",
              "  <thead>\n",
              "    <tr style=\"text-align: right;\">\n",
              "      <th></th>\n",
              "      <th>CustomerID</th>\n",
              "      <th>Genre</th>\n",
              "      <th>Age</th>\n",
              "      <th>Annual Income (k$)</th>\n",
              "      <th>Spending Score (1-100)</th>\n",
              "      <th>KMClusters</th>\n",
              "      <th>HiercClustrs</th>\n",
              "    </tr>\n",
              "  </thead>\n",
              "  <tbody>\n",
              "    <tr>\n",
              "      <th>0</th>\n",
              "      <td>1</td>\n",
              "      <td>Male</td>\n",
              "      <td>19</td>\n",
              "      <td>15</td>\n",
              "      <td>39</td>\n",
              "      <td>1</td>\n",
              "      <td>4</td>\n",
              "    </tr>\n",
              "    <tr>\n",
              "      <th>1</th>\n",
              "      <td>2</td>\n",
              "      <td>Male</td>\n",
              "      <td>21</td>\n",
              "      <td>15</td>\n",
              "      <td>81</td>\n",
              "      <td>4</td>\n",
              "      <td>3</td>\n",
              "    </tr>\n",
              "    <tr>\n",
              "      <th>2</th>\n",
              "      <td>3</td>\n",
              "      <td>Female</td>\n",
              "      <td>20</td>\n",
              "      <td>16</td>\n",
              "      <td>6</td>\n",
              "      <td>1</td>\n",
              "      <td>4</td>\n",
              "    </tr>\n",
              "    <tr>\n",
              "      <th>3</th>\n",
              "      <td>4</td>\n",
              "      <td>Female</td>\n",
              "      <td>23</td>\n",
              "      <td>16</td>\n",
              "      <td>77</td>\n",
              "      <td>4</td>\n",
              "      <td>3</td>\n",
              "    </tr>\n",
              "    <tr>\n",
              "      <th>4</th>\n",
              "      <td>5</td>\n",
              "      <td>Female</td>\n",
              "      <td>31</td>\n",
              "      <td>17</td>\n",
              "      <td>40</td>\n",
              "      <td>1</td>\n",
              "      <td>4</td>\n",
              "    </tr>\n",
              "  </tbody>\n",
              "</table>\n",
              "</div>"
            ],
            "text/plain": [
              "   CustomerID   Genre  Age  ...  Spending Score (1-100)  KMClusters  HiercClustrs\n",
              "0           1    Male   19  ...                      39           1             4\n",
              "1           2    Male   21  ...                      81           4             3\n",
              "2           3  Female   20  ...                       6           1             4\n",
              "3           4  Female   23  ...                      77           4             3\n",
              "4           5  Female   31  ...                      40           1             4\n",
              "\n",
              "[5 rows x 7 columns]"
            ]
          },
          "metadata": {},
          "execution_count": 109
        }
      ]
    },
    {
      "cell_type": "code",
      "metadata": {
        "colab": {
          "base_uri": "https://localhost:8080/",
          "height": 268
        },
        "id": "R74wd9TUYCgl",
        "outputId": "a5c8ae11-851e-484f-e763-c9b40cdfe90c"
      },
      "source": [
        "#Other way to viuslaize\n",
        "plt.scatter(X[: , 0] , X[: ,1 ])\n",
        "for i in hc.labels_:\n",
        "  plt.plot(X[hc.labels_ == i , 0],X[hc.labels_==i ,1] ,label=i)\n"
      ],
      "execution_count": 110,
      "outputs": [
        {
          "output_type": "display_data",
          "data": {
            "image/png": "[encoded data removed]",
            "text/plain": [
              "<Figure size 432x288 with 1 Axes>"
            ]
          },
          "metadata": {}
        }
      ]
    },
    {
      "cell_type": "code",
      "metadata": {
        "colab": {
          "base_uri": "https://localhost:8080/",
          "height": 235
        },
        "id": "S6TjQRlRMC5U",
        "outputId": "201ab51e-1703-4ce1-e42f-99eb3ef718af"
      },
      "source": [
        "df.groupby('KMClusters').mean()[['Spending Score (1-100)' ,'Annual Income (k$)' ]]"
      ],
      "execution_count": 133,
      "outputs": [
        {
          "output_type": "execute_result",
          "data": {
            "text/html": [
              "<div>\n",
              "<style scoped>\n",
              "    .dataframe tbody tr th:only-of-type {\n",
              "        vertical-align: middle;\n",
              "    }\n",
              "\n",
              "    .dataframe tbody tr th {\n",
              "        vertical-align: top;\n",
              "    }\n",
              "\n",
              "    .dataframe thead th {\n",
              "        text-align: right;\n",
              "    }\n",
              "</style>\n",
              "<table border=\"1\" class=\"dataframe\">\n",
              "  <thead>\n",
              "    <tr style=\"text-align: right;\">\n",
              "      <th></th>\n",
              "      <th>Spending Score (1-100)</th>\n",
              "      <th>Annual Income (k$)</th>\n",
              "    </tr>\n",
              "    <tr>\n",
              "      <th>KMClusters</th>\n",
              "      <th></th>\n",
              "      <th></th>\n",
              "    </tr>\n",
              "  </thead>\n",
              "  <tbody>\n",
              "    <tr>\n",
              "      <th>0</th>\n",
              "      <td>82.128205</td>\n",
              "      <td>86.538462</td>\n",
              "    </tr>\n",
              "    <tr>\n",
              "      <th>1</th>\n",
              "      <td>20.913043</td>\n",
              "      <td>26.304348</td>\n",
              "    </tr>\n",
              "    <tr>\n",
              "      <th>2</th>\n",
              "      <td>49.518519</td>\n",
              "      <td>55.296296</td>\n",
              "    </tr>\n",
              "    <tr>\n",
              "      <th>3</th>\n",
              "      <td>17.114286</td>\n",
              "      <td>88.200000</td>\n",
              "    </tr>\n",
              "    <tr>\n",
              "      <th>4</th>\n",
              "      <td>79.363636</td>\n",
              "      <td>25.727273</td>\n",
              "    </tr>\n",
              "  </tbody>\n",
              "</table>\n",
              "</div>"
            ],
            "text/plain": [
              "            Spending Score (1-100)  Annual Income (k$)\n",
              "KMClusters                                            \n",
              "0                        82.128205           86.538462\n",
              "1                        20.913043           26.304348\n",
              "2                        49.518519           55.296296\n",
              "3                        17.114286           88.200000\n",
              "4                        79.363636           25.727273"
            ]
          },
          "metadata": {},
          "execution_count": 133
        }
      ]
    },
    {
      "cell_type": "code",
      "metadata": {
        "colab": {
          "base_uri": "https://localhost:8080/",
          "height": 268
        },
        "id": "Q8Mqb6vhOdzb",
        "outputId": "391cc6dd-ee82-48df-d022-5c4714da7e2d"
      },
      "source": [
        "plt.bar(df['KMClusters'] , df['Spending Score (1-100)']);"
      ],
      "execution_count": 152,
      "outputs": [
        {
          "output_type": "display_data",
          "data": {
            "image/png": "[encoded data removed]",
            "text/plain": [
              "<Figure size 432x288 with 1 Axes>"
            ]
          },
          "metadata": {}
        }
      ]
    },
    {
      "cell_type": "code",
      "metadata": {
        "colab": {
          "base_uri": "https://localhost:8080/",
          "height": 268
        },
        "id": "1kzTfFhUOz_d",
        "outputId": "6091b004-1afa-4661-83f9-bbfe9d4f9587"
      },
      "source": [
        "plt.bar(df['KMClusters'] , df['Annual Income (k$)']);"
      ],
      "execution_count": 162,
      "outputs": [
        {
          "output_type": "display_data",
          "data": {
            "image/png": "[encoded data removed]",
            "text/plain": [
              "<Figure size 432x288 with 1 Axes>"
            ]
          },
          "metadata": {}
        }
      ]
    },
    {
      "cell_type": "code",
      "metadata": {
        "colab": {
          "base_uri": "https://localhost:8080/"
        },
        "id": "2grZnI1hMu1G",
        "outputId": "8d2cc05d-0c70-46f4-f2e2-802403737a02"
      },
      "source": [
        "annul_income = df.groupby('HiercClustrs').sum()['Annual Income (k$)']\n",
        "annul_income"
      ],
      "execution_count": 154,
      "outputs": [
        {
          "output_type": "execute_result",
          "data": {
            "text/plain": [
              "HiercClustrs\n",
              "0    2861\n",
              "1    4744\n",
              "2    3375\n",
              "3     527\n",
              "4     605\n",
              "Name: Annual Income (k$), dtype: int64"
            ]
          },
          "metadata": {},
          "execution_count": 154
        }
      ]
    }
  ]
}